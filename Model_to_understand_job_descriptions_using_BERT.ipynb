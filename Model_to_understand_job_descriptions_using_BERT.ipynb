{
  "metadata": {
    "colab": {
      "provenance": [],
      "name": "Model_to_understand_job_descriptions_using_BERT",
      "include_colab_link": true
    },
    "kernelspec": {
      "name": "python3",
      "display_name": "Python 3",
      "language": "python"
    },
    "language_info": {
      "name": "python",
      "version": "3.10.14",
      "mimetype": "text/x-python",
      "codemirror_mode": {
        "name": "ipython",
        "version": 3
      },
      "pygments_lexer": "ipython3",
      "nbconvert_exporter": "python",
      "file_extension": ".py"
    },
    "kaggle": {
      "accelerator": "nvidiaTeslaT4",
      "dataSources": [
        {
          "sourceId": 1403062,
          "sourceType": "datasetVersion",
          "datasetId": 820137
        }
      ],
      "dockerImageVersionId": 30762,
      "isInternetEnabled": true,
      "language": "python",
      "sourceType": "notebook",
      "isGpuEnabled": true
    }
  },
  "nbformat_minor": 0,
  "nbformat": 4,
  "cells": [
    {
      "cell_type": "markdown",
      "metadata": {
        "id": "view-in-github",
        "colab_type": "text"
      },
      "source": [
        "<a href=\"https://colab.research.google.com/github/aljebraschool/Simple_RNN/blob/main/Model_to_understand_job_descriptions_using_BERT.ipynb\" target=\"_parent\"><img src=\"https://colab.research.google.com/assets/colab-badge.svg\" alt=\"Open In Colab\"/></a>"
      ]
    },
    {
      "cell_type": "code",
      "source": [
        "import pandas as pd\n",
        "import numpy as np\n",
        "from tqdm import tqdm, trange\n",
        "import re\n",
        "from bs4 import BeautifulSoup"
      ],
      "metadata": {
        "id": "vj5EInb_25qO",
        "execution": {
          "iopub.status.busy": "2024-09-14T10:53:48.55729Z",
          "iopub.execute_input": "2024-09-14T10:53:48.55768Z",
          "iopub.status.idle": "2024-09-14T10:53:49.063315Z",
          "shell.execute_reply.started": "2024-09-14T10:53:48.557643Z",
          "shell.execute_reply": "2024-09-14T10:53:49.062499Z"
        },
        "trusted": true
      },
      "execution_count": null,
      "outputs": []
    },
    {
      "cell_type": "code",
      "source": [
        "# Load the job posting dataset\n",
        "indeed_job_data = pd.read_csv(\"/kaggle/input/indeed-job-posting-dataset/home/sdf/marketing_sample_for_trulia_com-real_estate__20190901_20191031__30k_data.csv\", encoding=\"latin1\").fillna(\"\")"
      ],
      "metadata": {
        "execution": {
          "iopub.status.busy": "2024-09-14T10:53:50.306843Z",
          "iopub.execute_input": "2024-09-14T10:53:50.30776Z",
          "iopub.status.idle": "2024-09-14T10:53:52.045707Z",
          "shell.execute_reply.started": "2024-09-14T10:53:50.307718Z",
          "shell.execute_reply": "2024-09-14T10:53:52.044669Z"
        },
        "trusted": true,
        "id": "Eht7rTcHdwcu"
      },
      "execution_count": null,
      "outputs": []
    },
    {
      "cell_type": "code",
      "source": [
        "indeed_job_data.head()"
      ],
      "metadata": {
        "execution": {
          "iopub.status.busy": "2024-09-14T10:54:08.932037Z",
          "iopub.execute_input": "2024-09-14T10:54:08.932886Z",
          "iopub.status.idle": "2024-09-14T10:54:08.959672Z",
          "shell.execute_reply.started": "2024-09-14T10:54:08.932842Z",
          "shell.execute_reply": "2024-09-14T10:54:08.958784Z"
        },
        "trusted": true,
        "id": "TrF4TvlUdwcw",
        "outputId": "58d25577-2e11-46c7-d0c4-afb0430f5352"
      },
      "execution_count": null,
      "outputs": [
        {
          "execution_count": 3,
          "output_type": "execute_result",
          "data": {
            "text/plain": "                       Job Title  \\\n0                  Shift Manager   \n1     Operations Support Manager   \n2  Senior Product Manager - Data   \n3     Part-Time Office Concierge   \n4    Print & Marketing Associate   \n\n                                     Job Description Job Type Categories  \\\n0  <div id=\"jobDescriptionText\" class=\"jobsearch-...                       \n1  <div id=\"jobDescriptionText\" class=\"jobsearch-...                       \n2  <div id=\"jobDescriptionText\" class=\"jobsearch-...                       \n3  <div id=\"jobDescriptionText\" class=\"jobsearch-...                       \n4  <div id=\"jobDescriptionText\" class=\"jobsearch-...                       \n\n                  Location           City State        Country Zip Code  \\\n0  Mission Hills, CA 91345  Mission Hills    CA  United States    91345   \n1        Atlanta, GA 30342        Atlanta    GA  United States    30342   \n2              Chicago, IL        Chicago    IL  United States            \n3               Festus, MO         Festus    MO  United States            \n4   Cedar Rapids, IA 52404   Cedar Rapids    IA  United States    52404   \n\n  Address  ... Employer Phone  \\\n0          ...                  \n1          ...                  \n2          ...                  \n3          ...                  \n4          ...                  \n\n                                       Employer Logo  \\\n0  https://d2q79iu7y748jz.cloudfront.net/s/_squar...   \n1  https://d2q79iu7y748jz.cloudfront.net/s/_logo/...   \n2                                                      \n3                                                      \n4  https://d2q79iu7y748jz.cloudfront.net/s/_logo/...   \n\n                                  Companydescription        Employer Location  \\\n0  Del Taco is an American quick service restaura...  Mission Hills, CA 91345   \n1  Based in Atlanta, FOCUS Brands Inc. is an inno...                            \n2  Vibes Corp. reputation was built and establish...                            \n3                                                                               \n4  Staples is The Worklife Fulfillment Company, h...   Cedar Rapids, IA 52404   \n\n   Employer City Employer State Employer Country Employer Zip Code  \\\n0  Mission Hills             CA    United States             91345   \n1                                  United States                     \n2                                  United States                     \n3                                  United States                     \n4   Cedar Rapids             IA    United States             52404   \n\n                            Uniq Id            Crawl Timestamp  \n0  511f9a53920f4641d701d51d3589349f  2019-08-24 09:13:18 +0000  \n1  4955daf0a3facbe2acb6c429ba394e6d  2019-09-19 08:16:55 +0000  \n2  a0e0d12df1571962b785f17f43ceae12  2019-09-18 02:13:10 +0000  \n3  56e411fd731f76ac916bf4fb169250e9  2019-10-24 16:39:13 +0000  \n4  3fff5c0ad6981bf4bff6260bd5feab63  2019-08-24 22:29:10 +0000  \n\n[5 rows x 30 columns]",
            "text/html": "<div>\n<style scoped>\n    .dataframe tbody tr th:only-of-type {\n        vertical-align: middle;\n    }\n\n    .dataframe tbody tr th {\n        vertical-align: top;\n    }\n\n    .dataframe thead th {\n        text-align: right;\n    }\n</style>\n<table border=\"1\" class=\"dataframe\">\n  <thead>\n    <tr style=\"text-align: right;\">\n      <th></th>\n      <th>Job Title</th>\n      <th>Job Description</th>\n      <th>Job Type</th>\n      <th>Categories</th>\n      <th>Location</th>\n      <th>City</th>\n      <th>State</th>\n      <th>Country</th>\n      <th>Zip Code</th>\n      <th>Address</th>\n      <th>...</th>\n      <th>Employer Phone</th>\n      <th>Employer Logo</th>\n      <th>Companydescription</th>\n      <th>Employer Location</th>\n      <th>Employer City</th>\n      <th>Employer State</th>\n      <th>Employer Country</th>\n      <th>Employer Zip Code</th>\n      <th>Uniq Id</th>\n      <th>Crawl Timestamp</th>\n    </tr>\n  </thead>\n  <tbody>\n    <tr>\n      <th>0</th>\n      <td>Shift Manager</td>\n      <td>&lt;div id=\"jobDescriptionText\" class=\"jobsearch-...</td>\n      <td></td>\n      <td></td>\n      <td>Mission Hills, CA 91345</td>\n      <td>Mission Hills</td>\n      <td>CA</td>\n      <td>United States</td>\n      <td>91345</td>\n      <td></td>\n      <td>...</td>\n      <td></td>\n      <td>https://d2q79iu7y748jz.cloudfront.net/s/_squar...</td>\n      <td>Del Taco is an American quick service restaura...</td>\n      <td>Mission Hills, CA 91345</td>\n      <td>Mission Hills</td>\n      <td>CA</td>\n      <td>United States</td>\n      <td>91345</td>\n      <td>511f9a53920f4641d701d51d3589349f</td>\n      <td>2019-08-24 09:13:18 +0000</td>\n    </tr>\n    <tr>\n      <th>1</th>\n      <td>Operations Support Manager</td>\n      <td>&lt;div id=\"jobDescriptionText\" class=\"jobsearch-...</td>\n      <td></td>\n      <td></td>\n      <td>Atlanta, GA 30342</td>\n      <td>Atlanta</td>\n      <td>GA</td>\n      <td>United States</td>\n      <td>30342</td>\n      <td></td>\n      <td>...</td>\n      <td></td>\n      <td>https://d2q79iu7y748jz.cloudfront.net/s/_logo/...</td>\n      <td>Based in Atlanta, FOCUS Brands Inc. is an inno...</td>\n      <td></td>\n      <td></td>\n      <td></td>\n      <td>United States</td>\n      <td></td>\n      <td>4955daf0a3facbe2acb6c429ba394e6d</td>\n      <td>2019-09-19 08:16:55 +0000</td>\n    </tr>\n    <tr>\n      <th>2</th>\n      <td>Senior Product Manager - Data</td>\n      <td>&lt;div id=\"jobDescriptionText\" class=\"jobsearch-...</td>\n      <td></td>\n      <td></td>\n      <td>Chicago, IL</td>\n      <td>Chicago</td>\n      <td>IL</td>\n      <td>United States</td>\n      <td></td>\n      <td></td>\n      <td>...</td>\n      <td></td>\n      <td></td>\n      <td>Vibes Corp. reputation was built and establish...</td>\n      <td></td>\n      <td></td>\n      <td></td>\n      <td>United States</td>\n      <td></td>\n      <td>a0e0d12df1571962b785f17f43ceae12</td>\n      <td>2019-09-18 02:13:10 +0000</td>\n    </tr>\n    <tr>\n      <th>3</th>\n      <td>Part-Time Office Concierge</td>\n      <td>&lt;div id=\"jobDescriptionText\" class=\"jobsearch-...</td>\n      <td></td>\n      <td></td>\n      <td>Festus, MO</td>\n      <td>Festus</td>\n      <td>MO</td>\n      <td>United States</td>\n      <td></td>\n      <td></td>\n      <td>...</td>\n      <td></td>\n      <td></td>\n      <td></td>\n      <td></td>\n      <td></td>\n      <td></td>\n      <td>United States</td>\n      <td></td>\n      <td>56e411fd731f76ac916bf4fb169250e9</td>\n      <td>2019-10-24 16:39:13 +0000</td>\n    </tr>\n    <tr>\n      <th>4</th>\n      <td>Print &amp; Marketing Associate</td>\n      <td>&lt;div id=\"jobDescriptionText\" class=\"jobsearch-...</td>\n      <td></td>\n      <td></td>\n      <td>Cedar Rapids, IA 52404</td>\n      <td>Cedar Rapids</td>\n      <td>IA</td>\n      <td>United States</td>\n      <td>52404</td>\n      <td></td>\n      <td>...</td>\n      <td></td>\n      <td>https://d2q79iu7y748jz.cloudfront.net/s/_logo/...</td>\n      <td>Staples is The Worklife Fulfillment Company, h...</td>\n      <td>Cedar Rapids, IA 52404</td>\n      <td>Cedar Rapids</td>\n      <td>IA</td>\n      <td>United States</td>\n      <td>52404</td>\n      <td>3fff5c0ad6981bf4bff6260bd5feab63</td>\n      <td>2019-08-24 22:29:10 +0000</td>\n    </tr>\n  </tbody>\n</table>\n<p>5 rows × 30 columns</p>\n</div>"
          },
          "metadata": {}
        }
      ]
    },
    {
      "cell_type": "code",
      "source": [
        "# Subsample the dataset (10%)\n",
        "indeed_job_data = indeed_job_data.sample(frac=0.1, random_state=42)"
      ],
      "metadata": {
        "execution": {
          "iopub.status.busy": "2024-09-14T10:54:09.846562Z",
          "iopub.execute_input": "2024-09-14T10:54:09.847365Z",
          "iopub.status.idle": "2024-09-14T10:54:09.862766Z",
          "shell.execute_reply.started": "2024-09-14T10:54:09.84732Z",
          "shell.execute_reply": "2024-09-14T10:54:09.861729Z"
        },
        "trusted": true,
        "id": "3nTlXwKzdwc1"
      },
      "execution_count": null,
      "outputs": []
    },
    {
      "cell_type": "code",
      "source": [
        "# Define a function to clean HTML content, if job descriptions contain HTML\n",
        "def clean_html(raw_html):\n",
        "    # Check if it's really HTML content\n",
        "    if isinstance(raw_html, str):\n",
        "        soup = BeautifulSoup(raw_html, \"html.parser\")\n",
        "        return ' '.join(soup.stripped_strings)  # Remove all HTML tags and join text\n",
        "    return raw_html"
      ],
      "metadata": {
        "execution": {
          "iopub.status.busy": "2024-09-14T10:54:10.558803Z",
          "iopub.execute_input": "2024-09-14T10:54:10.559643Z",
          "iopub.status.idle": "2024-09-14T10:54:10.564801Z",
          "shell.execute_reply.started": "2024-09-14T10:54:10.5596Z",
          "shell.execute_reply": "2024-09-14T10:54:10.563649Z"
        },
        "trusted": true,
        "id": "7hInW1a9dwc2"
      },
      "execution_count": null,
      "outputs": []
    },
    {
      "cell_type": "code",
      "source": [
        "# Apply the clean_html function to the column containing job descriptions\n",
        "indeed_job_data['Job Description'] = indeed_job_data['Job Description'].apply(clean_html)"
      ],
      "metadata": {
        "execution": {
          "iopub.status.busy": "2024-09-14T10:54:11.854838Z",
          "iopub.execute_input": "2024-09-14T10:54:11.855504Z",
          "iopub.status.idle": "2024-09-14T10:54:20.578422Z",
          "shell.execute_reply.started": "2024-09-14T10:54:11.855461Z",
          "shell.execute_reply": "2024-09-14T10:54:20.577419Z"
        },
        "trusted": true,
        "id": "0yY5iGLtdwc4"
      },
      "execution_count": null,
      "outputs": []
    },
    {
      "cell_type": "code",
      "source": [
        "indeed_job_data.head()"
      ],
      "metadata": {
        "execution": {
          "iopub.status.busy": "2024-09-14T10:54:21.294337Z",
          "iopub.execute_input": "2024-09-14T10:54:21.295206Z",
          "iopub.status.idle": "2024-09-14T10:54:21.318562Z",
          "shell.execute_reply.started": "2024-09-14T10:54:21.295164Z",
          "shell.execute_reply": "2024-09-14T10:54:21.317538Z"
        },
        "trusted": true,
        "id": "jsecHVY3dwc4",
        "outputId": "dfc412ce-6e80-4c14-ec1f-18e95ba3a573"
      },
      "execution_count": null,
      "outputs": [
        {
          "execution_count": 7,
          "output_type": "execute_result",
          "data": {
            "text/plain": "                                           Job Title  \\\n2308                                   SHIFT MANAGER   \n22405                  Digital Marketing Coordinator   \n28461                      EDM Applications Engineer   \n25059  Power & Drives Systems Field Service Engineer   \n2664                   Coordinator, Order Management   \n\n                                         Job Description Job Type Categories  \\\n2308   First-Line Supervisors of Food Preparation and...                       \n22405  PHALEN LEADERSHIP ACADEMIES DIGITAL MARKETING ...                       \n28461  Makino is a world leader in metal-cutting and ...                       \n25059  Role Summary: The Power & Drives Systems Field...                       \n2664   Overview of Job Function: Under general direct...                       \n\n                           Location                City State        Country  \\\n2308          Baton Rouge, LA 70815         Baton Rouge    LA  United States   \n22405                  Beaumont, TX            Beaumont    TX  United States   \n28461                    Newark, NJ              Newark    NJ  United States   \n25059  Cranberry Township, PA 16066  Cranberry Township    PA  United States   \n2664               Denver, CO 80234              Denver    CO  United States   \n\n      Zip Code Address  ... Employer Phone  \\\n2308     70815          ...                  \n22405                   ...                  \n28461                   ...                  \n25059    16066          ...                  \n2664     80234          ...                  \n\n                                           Employer Logo  \\\n2308                                                       \n22405                                                      \n28461  https://d2q79iu7y748jz.cloudfront.net/s/_logo/...   \n25059  https://d2q79iu7y748jz.cloudfront.net/s/_squar...   \n2664   https://d2q79iu7y748jz.cloudfront.net/s/_squar...   \n\n                                      Companydescription Employer Location  \\\n2308                                                                         \n22405                                                                        \n28461  Makino, a global leader in high-performance CN...                     \n25059  GE Power is a world energy leader providing eq...                     \n2664   Verint (Nasdaq: VRNT) is a global leader in Ac...  Denver, CO 80234   \n\n      Employer City Employer State Employer Country Employer Zip Code  \\\n2308                                  United States                     \n22405                                 United States                     \n28461                                 United States                     \n25059                                 United States                     \n2664         Denver             CO    United States             80234   \n\n                                Uniq Id            Crawl Timestamp  \n2308   76e1610d1466d99b81690f9e4e092943  2019-09-20 13:00:34 +0000  \n22405  d31f52dde60c1f4ea4260e90244a8de1  2019-10-14 03:46:19 +0000  \n28461  07c58cf8f6cd8d37ab8b6313d7a50e71  2019-09-18 13:26:35 +0000  \n25059  d9284f430768a3fd166bf974a6dd8d32  2019-10-23 01:38:28 +0000  \n2664   5f70f0fcffef8158102c4dfa7fb85035  2019-08-23 19:37:05 +0000  \n\n[5 rows x 30 columns]",
            "text/html": "<div>\n<style scoped>\n    .dataframe tbody tr th:only-of-type {\n        vertical-align: middle;\n    }\n\n    .dataframe tbody tr th {\n        vertical-align: top;\n    }\n\n    .dataframe thead th {\n        text-align: right;\n    }\n</style>\n<table border=\"1\" class=\"dataframe\">\n  <thead>\n    <tr style=\"text-align: right;\">\n      <th></th>\n      <th>Job Title</th>\n      <th>Job Description</th>\n      <th>Job Type</th>\n      <th>Categories</th>\n      <th>Location</th>\n      <th>City</th>\n      <th>State</th>\n      <th>Country</th>\n      <th>Zip Code</th>\n      <th>Address</th>\n      <th>...</th>\n      <th>Employer Phone</th>\n      <th>Employer Logo</th>\n      <th>Companydescription</th>\n      <th>Employer Location</th>\n      <th>Employer City</th>\n      <th>Employer State</th>\n      <th>Employer Country</th>\n      <th>Employer Zip Code</th>\n      <th>Uniq Id</th>\n      <th>Crawl Timestamp</th>\n    </tr>\n  </thead>\n  <tbody>\n    <tr>\n      <th>2308</th>\n      <td>SHIFT MANAGER</td>\n      <td>First-Line Supervisors of Food Preparation and...</td>\n      <td></td>\n      <td></td>\n      <td>Baton Rouge, LA 70815</td>\n      <td>Baton Rouge</td>\n      <td>LA</td>\n      <td>United States</td>\n      <td>70815</td>\n      <td></td>\n      <td>...</td>\n      <td></td>\n      <td></td>\n      <td></td>\n      <td></td>\n      <td></td>\n      <td></td>\n      <td>United States</td>\n      <td></td>\n      <td>76e1610d1466d99b81690f9e4e092943</td>\n      <td>2019-09-20 13:00:34 +0000</td>\n    </tr>\n    <tr>\n      <th>22405</th>\n      <td>Digital Marketing Coordinator</td>\n      <td>PHALEN LEADERSHIP ACADEMIES DIGITAL MARKETING ...</td>\n      <td></td>\n      <td></td>\n      <td>Beaumont, TX</td>\n      <td>Beaumont</td>\n      <td>TX</td>\n      <td>United States</td>\n      <td></td>\n      <td></td>\n      <td>...</td>\n      <td></td>\n      <td></td>\n      <td></td>\n      <td></td>\n      <td></td>\n      <td></td>\n      <td>United States</td>\n      <td></td>\n      <td>d31f52dde60c1f4ea4260e90244a8de1</td>\n      <td>2019-10-14 03:46:19 +0000</td>\n    </tr>\n    <tr>\n      <th>28461</th>\n      <td>EDM Applications Engineer</td>\n      <td>Makino is a world leader in metal-cutting and ...</td>\n      <td></td>\n      <td></td>\n      <td>Newark, NJ</td>\n      <td>Newark</td>\n      <td>NJ</td>\n      <td>United States</td>\n      <td></td>\n      <td></td>\n      <td>...</td>\n      <td></td>\n      <td>https://d2q79iu7y748jz.cloudfront.net/s/_logo/...</td>\n      <td>Makino, a global leader in high-performance CN...</td>\n      <td></td>\n      <td></td>\n      <td></td>\n      <td>United States</td>\n      <td></td>\n      <td>07c58cf8f6cd8d37ab8b6313d7a50e71</td>\n      <td>2019-09-18 13:26:35 +0000</td>\n    </tr>\n    <tr>\n      <th>25059</th>\n      <td>Power &amp; Drives Systems Field Service Engineer</td>\n      <td>Role Summary: The Power &amp; Drives Systems Field...</td>\n      <td></td>\n      <td></td>\n      <td>Cranberry Township, PA 16066</td>\n      <td>Cranberry Township</td>\n      <td>PA</td>\n      <td>United States</td>\n      <td>16066</td>\n      <td></td>\n      <td>...</td>\n      <td></td>\n      <td>https://d2q79iu7y748jz.cloudfront.net/s/_squar...</td>\n      <td>GE Power is a world energy leader providing eq...</td>\n      <td></td>\n      <td></td>\n      <td></td>\n      <td>United States</td>\n      <td></td>\n      <td>d9284f430768a3fd166bf974a6dd8d32</td>\n      <td>2019-10-23 01:38:28 +0000</td>\n    </tr>\n    <tr>\n      <th>2664</th>\n      <td>Coordinator, Order Management</td>\n      <td>Overview of Job Function: Under general direct...</td>\n      <td></td>\n      <td></td>\n      <td>Denver, CO 80234</td>\n      <td>Denver</td>\n      <td>CO</td>\n      <td>United States</td>\n      <td>80234</td>\n      <td></td>\n      <td>...</td>\n      <td></td>\n      <td>https://d2q79iu7y748jz.cloudfront.net/s/_squar...</td>\n      <td>Verint (Nasdaq: VRNT) is a global leader in Ac...</td>\n      <td>Denver, CO 80234</td>\n      <td>Denver</td>\n      <td>CO</td>\n      <td>United States</td>\n      <td>80234</td>\n      <td>5f70f0fcffef8158102c4dfa7fb85035</td>\n      <td>2019-08-23 19:37:05 +0000</td>\n    </tr>\n  </tbody>\n</table>\n<p>5 rows × 30 columns</p>\n</div>"
          },
          "metadata": {}
        }
      ]
    },
    {
      "cell_type": "code",
      "source": [
        "# def clean_html(raw_html):\n",
        "#     soup = BeautifulSoup(raw_html, \"html.parser\")\n",
        "#     return ' '.join(soup.stripped_strings)"
      ],
      "metadata": {
        "execution": {
          "iopub.status.busy": "2024-09-14T10:54:21.926579Z",
          "iopub.execute_input": "2024-09-14T10:54:21.926963Z",
          "iopub.status.idle": "2024-09-14T10:54:21.931034Z",
          "shell.execute_reply.started": "2024-09-14T10:54:21.926926Z",
          "shell.execute_reply": "2024-09-14T10:54:21.930091Z"
        },
        "trusted": true,
        "id": "9SVfJ-HEdwc5"
      },
      "execution_count": null,
      "outputs": []
    },
    {
      "cell_type": "code",
      "source": [
        "def preprocess_job_posting_data(job_data):\n",
        "    processed_data = []\n",
        "\n",
        "    # Define regex patterns for skills, qualifications, and experience\n",
        "    skill_pattern = r'\\b(?:skills?|proficiency|expertise|proficient|experience\\s+(?:with|in)|knowledge\\s+of)\\b'\n",
        "    qualification_pattern = r'\\b(?:qualifications?|degree|education|certification|diploma|bachelor|master)\\b'\n",
        "    experience_pattern = r'\\b(?:experience|years\\s+of|work\\s+history)\\b'\n",
        "\n",
        "    for _, job in tqdm(job_data.iterrows(), desc=\"Processing job postings\", total=len(job_data)):\n",
        "        job_id = job['Uniq Id']\n",
        "        title = clean_html(str(job['Job Title']))\n",
        "        description = clean_html(str(job['Job Description']))\n",
        "        job_type = str(job['Job Type'])\n",
        "\n",
        "        # Process job title\n",
        "        title_words = title.split()\n",
        "        for i, word in enumerate(title_words):\n",
        "            processed_data.append([f\"{job_id}_title\", word, 'B-TITLE' if i == 0 else 'I-TITLE'])\n",
        "\n",
        "        # Process job type\n",
        "        if job_type and job_type.lower() != 'nan':\n",
        "            job_type_words = job_type.split()\n",
        "            for i, word in enumerate(job_type_words):\n",
        "                processed_data.append([f\"{job_id}_type\", word, 'B-JOBTYPE' if i == 0 else 'I-JOBTYPE'])\n",
        "\n",
        "        # Process job description\n",
        "        desc_words = description.split()\n",
        "        current_tag = 'O'\n",
        "        for i, word in enumerate(desc_words):\n",
        "            if re.search(skill_pattern, ' '.join(desc_words[max(0, i-2):i+3]), re.IGNORECASE):\n",
        "                current_tag = 'SKILL'\n",
        "            elif re.search(qualification_pattern, ' '.join(desc_words[max(0, i-2):i+3]), re.IGNORECASE):\n",
        "                current_tag = 'QUALIFICATION'\n",
        "            elif re.search(experience_pattern, ' '.join(desc_words[max(0, i-2):i+3]), re.IGNORECASE):\n",
        "                current_tag = 'EXPERIENCE'\n",
        "\n",
        "            if current_tag != 'O':\n",
        "                tag = f'B-{current_tag}' if i == 0 or desc_words[i-1].endswith('.') else f'I-{current_tag}'\n",
        "            else:\n",
        "                tag = 'O'\n",
        "\n",
        "            processed_data.append([f\"{job_id}_desc_{i//50}\", word, tag])\n",
        "\n",
        "            if word.endswith('.'):\n",
        "                current_tag = 'O'\n",
        "\n",
        "    return pd.DataFrame(processed_data, columns=['Sentence #', 'Word', 'Tag'])"
      ],
      "metadata": {
        "execution": {
          "iopub.status.busy": "2024-09-14T10:54:22.628582Z",
          "iopub.execute_input": "2024-09-14T10:54:22.629396Z",
          "iopub.status.idle": "2024-09-14T10:54:22.64235Z",
          "shell.execute_reply.started": "2024-09-14T10:54:22.629346Z",
          "shell.execute_reply": "2024-09-14T10:54:22.641222Z"
        },
        "trusted": true,
        "id": "LOEhlVE6dwc6"
      },
      "execution_count": null,
      "outputs": []
    },
    {
      "cell_type": "code",
      "source": [
        "# Preprocess the data\n",
        "data = preprocess_job_posting_data(indeed_job_data)"
      ],
      "metadata": {
        "execution": {
          "iopub.status.busy": "2024-09-14T10:54:23.341761Z",
          "iopub.execute_input": "2024-09-14T10:54:23.342609Z",
          "iopub.status.idle": "2024-09-14T10:54:50.394649Z",
          "shell.execute_reply.started": "2024-09-14T10:54:23.342564Z",
          "shell.execute_reply": "2024-09-14T10:54:50.393623Z"
        },
        "trusted": true,
        "id": "lM6Jod7hdwc7",
        "outputId": "a256690e-9dc0-422c-dd9d-406df0b1fd4c"
      },
      "execution_count": null,
      "outputs": [
        {
          "name": "stderr",
          "text": "Processing job postings:   0%|          | 0/3000 [00:00<?, ?it/s]/tmp/ipykernel_204/2154294003.py:5: MarkupResemblesLocatorWarning: The input looks more like a filename than markup. You may want to open this file and pass the filehandle into Beautiful Soup.\n  soup = BeautifulSoup(raw_html, \"html.parser\")\nProcessing job postings: 100%|██████████| 3000/3000 [00:26<00:00, 113.11it/s]\n",
          "output_type": "stream"
        }
      ]
    },
    {
      "cell_type": "code",
      "source": [
        "data.head(10)"
      ],
      "metadata": {
        "execution": {
          "iopub.status.busy": "2024-09-14T10:54:50.396137Z",
          "iopub.execute_input": "2024-09-14T10:54:50.396454Z",
          "iopub.status.idle": "2024-09-14T10:54:50.406968Z",
          "shell.execute_reply.started": "2024-09-14T10:54:50.39642Z",
          "shell.execute_reply": "2024-09-14T10:54:50.406055Z"
        },
        "trusted": true,
        "id": "AP1iVHPQdwc8",
        "outputId": "111f6c1a-0188-401f-a1c8-c195752e2808"
      },
      "execution_count": null,
      "outputs": [
        {
          "execution_count": 11,
          "output_type": "execute_result",
          "data": {
            "text/plain": "                                Sentence #         Word      Tag\n0   76e1610d1466d99b81690f9e4e092943_title        SHIFT  B-TITLE\n1   76e1610d1466d99b81690f9e4e092943_title      MANAGER  I-TITLE\n2  76e1610d1466d99b81690f9e4e092943_desc_0   First-Line        O\n3  76e1610d1466d99b81690f9e4e092943_desc_0  Supervisors        O\n4  76e1610d1466d99b81690f9e4e092943_desc_0           of        O\n5  76e1610d1466d99b81690f9e4e092943_desc_0         Food        O\n6  76e1610d1466d99b81690f9e4e092943_desc_0  Preparation        O\n7  76e1610d1466d99b81690f9e4e092943_desc_0          and        O\n8  76e1610d1466d99b81690f9e4e092943_desc_0      Serving        O\n9  76e1610d1466d99b81690f9e4e092943_desc_0     Workers.        O",
            "text/html": "<div>\n<style scoped>\n    .dataframe tbody tr th:only-of-type {\n        vertical-align: middle;\n    }\n\n    .dataframe tbody tr th {\n        vertical-align: top;\n    }\n\n    .dataframe thead th {\n        text-align: right;\n    }\n</style>\n<table border=\"1\" class=\"dataframe\">\n  <thead>\n    <tr style=\"text-align: right;\">\n      <th></th>\n      <th>Sentence #</th>\n      <th>Word</th>\n      <th>Tag</th>\n    </tr>\n  </thead>\n  <tbody>\n    <tr>\n      <th>0</th>\n      <td>76e1610d1466d99b81690f9e4e092943_title</td>\n      <td>SHIFT</td>\n      <td>B-TITLE</td>\n    </tr>\n    <tr>\n      <th>1</th>\n      <td>76e1610d1466d99b81690f9e4e092943_title</td>\n      <td>MANAGER</td>\n      <td>I-TITLE</td>\n    </tr>\n    <tr>\n      <th>2</th>\n      <td>76e1610d1466d99b81690f9e4e092943_desc_0</td>\n      <td>First-Line</td>\n      <td>O</td>\n    </tr>\n    <tr>\n      <th>3</th>\n      <td>76e1610d1466d99b81690f9e4e092943_desc_0</td>\n      <td>Supervisors</td>\n      <td>O</td>\n    </tr>\n    <tr>\n      <th>4</th>\n      <td>76e1610d1466d99b81690f9e4e092943_desc_0</td>\n      <td>of</td>\n      <td>O</td>\n    </tr>\n    <tr>\n      <th>5</th>\n      <td>76e1610d1466d99b81690f9e4e092943_desc_0</td>\n      <td>Food</td>\n      <td>O</td>\n    </tr>\n    <tr>\n      <th>6</th>\n      <td>76e1610d1466d99b81690f9e4e092943_desc_0</td>\n      <td>Preparation</td>\n      <td>O</td>\n    </tr>\n    <tr>\n      <th>7</th>\n      <td>76e1610d1466d99b81690f9e4e092943_desc_0</td>\n      <td>and</td>\n      <td>O</td>\n    </tr>\n    <tr>\n      <th>8</th>\n      <td>76e1610d1466d99b81690f9e4e092943_desc_0</td>\n      <td>Serving</td>\n      <td>O</td>\n    </tr>\n    <tr>\n      <th>9</th>\n      <td>76e1610d1466d99b81690f9e4e092943_desc_0</td>\n      <td>Workers.</td>\n      <td>O</td>\n    </tr>\n  </tbody>\n</table>\n</div>"
          },
          "metadata": {}
        }
      ]
    },
    {
      "cell_type": "code",
      "source": [
        "class SentenceGetter(object):\n",
        "    def __init__(self, data):\n",
        "        self.n_sent = 1\n",
        "        self.data = data\n",
        "        self.empty = False\n",
        "        agg_func = lambda s: [(w, t) for w, t in zip(s[\"Word\"].values.tolist(),\n",
        "                                                     s[\"Tag\"].values.tolist())]\n",
        "        self.grouped = self.data.groupby(\"Sentence #\").apply(agg_func)\n",
        "        self.sentences = [s for s in self.grouped]\n",
        "\n",
        "    def get_next(self):\n",
        "        try:\n",
        "            s = self.grouped[\"Sentence: {}\".format(self.n_sent)]\n",
        "            self.n_sent += 1\n",
        "            return s\n",
        "        except:\n",
        "            return None"
      ],
      "metadata": {
        "execution": {
          "iopub.status.busy": "2024-09-14T10:54:50.408016Z",
          "iopub.execute_input": "2024-09-14T10:54:50.408306Z",
          "iopub.status.idle": "2024-09-14T10:54:50.419592Z",
          "shell.execute_reply.started": "2024-09-14T10:54:50.408252Z",
          "shell.execute_reply": "2024-09-14T10:54:50.418744Z"
        },
        "trusted": true,
        "id": "3mVtv_Xhdwc8"
      },
      "execution_count": null,
      "outputs": []
    },
    {
      "cell_type": "code",
      "source": [
        "# Create SentenceGetter object\n",
        "getter = SentenceGetter(data)"
      ],
      "metadata": {
        "execution": {
          "iopub.status.busy": "2024-09-14T10:54:50.422347Z",
          "iopub.execute_input": "2024-09-14T10:54:50.422899Z",
          "iopub.status.idle": "2024-09-14T10:54:54.588878Z",
          "shell.execute_reply.started": "2024-09-14T10:54:50.422865Z",
          "shell.execute_reply": "2024-09-14T10:54:54.587906Z"
        },
        "trusted": true,
        "id": "Gz4dlac5dwc9",
        "outputId": "73b49a9f-dabe-47e7-ef48-c69a6c59e6c2"
      },
      "execution_count": null,
      "outputs": [
        {
          "name": "stderr",
          "text": "/tmp/ipykernel_204/20316478.py:8: DeprecationWarning: DataFrameGroupBy.apply operated on the grouping columns. This behavior is deprecated, and in a future version of pandas the grouping columns will be excluded from the operation. Either pass `include_groups=False` to exclude the groupings or explicitly select the grouping columns after groupby to silence this warning.\n  self.grouped = self.data.groupby(\"Sentence #\").apply(agg_func)\n",
          "output_type": "stream"
        }
      ]
    },
    {
      "cell_type": "code",
      "source": [
        "sentences = [[word[0] for word in sentence] for sentence in getter.sentences]\n",
        "labels = [[s[1] for s in sentence] for sentence in getter.sentences]\n",
        "\n",
        "# Print an example to verify the preprocessing\n",
        "print(\"Example sentence:\", sentences[1])\n",
        "print(\"Example labels:\", labels[1])\n"
      ],
      "metadata": {
        "execution": {
          "iopub.status.busy": "2024-09-14T10:54:54.590264Z",
          "iopub.execute_input": "2024-09-14T10:54:54.590929Z",
          "iopub.status.idle": "2024-09-14T10:54:54.899176Z",
          "shell.execute_reply.started": "2024-09-14T10:54:54.590883Z",
          "shell.execute_reply": "2024-09-14T10:54:54.898218Z"
        },
        "trusted": true,
        "id": "txSJiY6Wdwc9",
        "outputId": "de508d17-b8ae-482d-b567-5e1e915cf69d"
      },
      "execution_count": null,
      "outputs": [
        {
          "name": "stdout",
          "text": "Example sentence: ['Within', 'their', 'designated', 'enterprise', 'product', 'line,', 'Sr.', 'Product', 'Managers', 'work', 'closely', 'with', 'teams', 'of', 'developers,', 'designers,', 'and', 'business', 'partners.', 'They', 'support', 'in-depth', 'business', 'reviews,', 'communicate', 'and', 'present', 'across', 'all', 'levels', 'of', 'the', 'organization', 'and', 'support', 'cross-functional', 'product', 'teams.', 'Importantly,', 'the', 'Sr.', 'Product', 'Manager,', 'must', 'be', 'able', 'to', 'work', 'at', 'the']\nExample labels: ['O', 'O', 'O', 'O', 'O', 'O', 'O', 'O', 'O', 'O', 'O', 'O', 'O', 'O', 'O', 'O', 'O', 'O', 'O', 'O', 'O', 'O', 'O', 'O', 'O', 'O', 'O', 'O', 'O', 'O', 'O', 'O', 'O', 'O', 'O', 'O', 'O', 'O', 'O', 'O', 'O', 'O', 'O', 'O', 'O', 'O', 'O', 'O', 'O', 'O']\n",
          "output_type": "stream"
        }
      ]
    },
    {
      "cell_type": "code",
      "source": [
        "# Define tag values\n",
        "tag_values = list(set(data['Tag'].values))\n",
        "tag_values.append(\"PAD\")\n",
        "tag2idx = {t: i for i, t in enumerate(tag_values)}\n",
        "\n",
        "print(\"Unique tags:\", tag_values)"
      ],
      "metadata": {
        "execution": {
          "iopub.status.busy": "2024-09-14T10:54:54.900404Z",
          "iopub.execute_input": "2024-09-14T10:54:54.900724Z",
          "iopub.status.idle": "2024-09-14T10:54:54.978248Z",
          "shell.execute_reply.started": "2024-09-14T10:54:54.900691Z",
          "shell.execute_reply": "2024-09-14T10:54:54.977228Z"
        },
        "trusted": true,
        "id": "X5-63KHYdwc9",
        "outputId": "eb498eb0-7b46-404f-b3f2-bd224773142b"
      },
      "execution_count": null,
      "outputs": [
        {
          "name": "stdout",
          "text": "Unique tags: ['O', 'B-SKILL', 'B-EXPERIENCE', 'I-QUALIFICATION', 'B-QUALIFICATION', 'I-TITLE', 'I-EXPERIENCE', 'I-SKILL', 'B-TITLE', 'PAD']\n",
          "output_type": "stream"
        }
      ]
    },
    {
      "cell_type": "code",
      "source": [
        "import torch\n",
        "from torch.utils.data import TensorDataset, DataLoader, RandomSampler, SequentialSampler\n",
        "from transformers import BertTokenizer, BertConfig\n",
        "\n",
        "from keras.preprocessing.sequence import pad_sequences\n",
        "from sklearn.model_selection import train_test_split\n",
        "\n",
        "torch.__version__\n"
      ],
      "metadata": {
        "execution": {
          "iopub.status.busy": "2024-09-14T10:54:54.979619Z",
          "iopub.execute_input": "2024-09-14T10:54:54.979989Z",
          "iopub.status.idle": "2024-09-14T10:55:00.89224Z",
          "shell.execute_reply.started": "2024-09-14T10:54:54.979947Z",
          "shell.execute_reply": "2024-09-14T10:55:00.891087Z"
        },
        "trusted": true,
        "id": "SL6SuKIRdwc-",
        "outputId": "03f23a2d-fcea-493e-cc73-d4efa293df9d"
      },
      "execution_count": null,
      "outputs": [
        {
          "execution_count": 16,
          "output_type": "execute_result",
          "data": {
            "text/plain": "'2.4.0'"
          },
          "metadata": {}
        }
      ]
    },
    {
      "cell_type": "code",
      "source": [
        "MAX_LEN = 75\n",
        "bs = 32"
      ],
      "metadata": {
        "execution": {
          "iopub.status.busy": "2024-09-14T10:55:00.893531Z",
          "iopub.execute_input": "2024-09-14T10:55:00.894181Z",
          "iopub.status.idle": "2024-09-14T10:55:00.899418Z",
          "shell.execute_reply.started": "2024-09-14T10:55:00.894141Z",
          "shell.execute_reply": "2024-09-14T10:55:00.897728Z"
        },
        "trusted": true,
        "id": "v9aQPFvzdwc-"
      },
      "execution_count": null,
      "outputs": []
    },
    {
      "cell_type": "code",
      "source": [
        "device = torch.device(\"cuda\" if torch.cuda.is_available() else \"cpu\")\n",
        "n_gpu = torch.cuda.device_count()\n",
        "print(n_gpu)"
      ],
      "metadata": {
        "execution": {
          "iopub.status.busy": "2024-09-14T10:55:00.901411Z",
          "iopub.execute_input": "2024-09-14T10:55:00.901857Z",
          "iopub.status.idle": "2024-09-14T10:55:00.99679Z",
          "shell.execute_reply.started": "2024-09-14T10:55:00.901809Z",
          "shell.execute_reply": "2024-09-14T10:55:00.995844Z"
        },
        "trusted": true,
        "id": "_AT3YfGUdwc-",
        "outputId": "933c585e-f668-4fc4-f503-742aa504d8a9"
      },
      "execution_count": null,
      "outputs": [
        {
          "name": "stdout",
          "text": "2\n",
          "output_type": "stream"
        }
      ]
    },
    {
      "cell_type": "code",
      "source": [
        "torch.cuda.get_device_name(0)"
      ],
      "metadata": {
        "execution": {
          "iopub.status.busy": "2024-09-14T10:55:01.000902Z",
          "iopub.execute_input": "2024-09-14T10:55:01.001621Z",
          "iopub.status.idle": "2024-09-14T10:55:01.01047Z",
          "shell.execute_reply.started": "2024-09-14T10:55:01.001584Z",
          "shell.execute_reply": "2024-09-14T10:55:01.009459Z"
        },
        "trusted": true,
        "id": "OGtLVhETdwc_",
        "outputId": "3e222c1e-2836-4a75-a42c-362f09378acc"
      },
      "execution_count": null,
      "outputs": [
        {
          "execution_count": 19,
          "output_type": "execute_result",
          "data": {
            "text/plain": "'Tesla T4'"
          },
          "metadata": {}
        }
      ]
    },
    {
      "cell_type": "code",
      "source": [
        "tokenizer = BertTokenizer.from_pretrained('bert-base-cased', do_lower_case=False)"
      ],
      "metadata": {
        "execution": {
          "iopub.status.busy": "2024-09-14T10:55:01.011571Z",
          "iopub.execute_input": "2024-09-14T10:55:01.011887Z",
          "iopub.status.idle": "2024-09-14T10:55:01.187543Z",
          "shell.execute_reply.started": "2024-09-14T10:55:01.011854Z",
          "shell.execute_reply": "2024-09-14T10:55:01.186595Z"
        },
        "trusted": true,
        "id": "_ovk12wgdwc_",
        "outputId": "a05cf5af-e7f4-490d-ae33-cc1e9c9421e7"
      },
      "execution_count": null,
      "outputs": [
        {
          "name": "stderr",
          "text": "/opt/conda/lib/python3.10/site-packages/transformers/tokenization_utils_base.py:1601: FutureWarning: `clean_up_tokenization_spaces` was not set. It will be set to `True` by default. This behavior will be depracted in transformers v4.45, and will be then set to `False` by default. For more details check this issue: https://github.com/huggingface/transformers/issues/31884\n  warnings.warn(\n",
          "output_type": "stream"
        }
      ]
    },
    {
      "cell_type": "code",
      "source": [
        "def tokenize_and_preserve_labels(sentence, text_labels):\n",
        "    tokenized_sentence = []\n",
        "    labels = []\n",
        "\n",
        "    for word, label in zip(sentence, text_labels):\n",
        "\n",
        "        # Tokenize the word and count # of subwords the word is broken into\n",
        "        tokenized_word = tokenizer.tokenize(word)\n",
        "        n_subwords = len(tokenized_word)\n",
        "\n",
        "        # Add the tokenized word to the final tokenized word list\n",
        "        tokenized_sentence.extend(tokenized_word)\n",
        "\n",
        "        # Add the same label to the new list of labels `n_subwords` times\n",
        "        labels.extend([label] * n_subwords)\n",
        "\n",
        "    return tokenized_sentence, labels\n"
      ],
      "metadata": {
        "execution": {
          "iopub.status.busy": "2024-09-14T10:55:01.188849Z",
          "iopub.execute_input": "2024-09-14T10:55:01.189194Z",
          "iopub.status.idle": "2024-09-14T10:55:01.195369Z",
          "shell.execute_reply.started": "2024-09-14T10:55:01.18916Z",
          "shell.execute_reply": "2024-09-14T10:55:01.194163Z"
        },
        "trusted": true,
        "id": "bgMY20urdwdA"
      },
      "execution_count": null,
      "outputs": []
    },
    {
      "cell_type": "code",
      "source": [
        "tokenized_texts_and_labels = [\n",
        "    tokenize_and_preserve_labels(sent, labs)\n",
        "    for sent, labs in zip(sentences, labels)\n",
        "]\n"
      ],
      "metadata": {
        "execution": {
          "iopub.status.busy": "2024-09-14T10:55:01.196678Z",
          "iopub.execute_input": "2024-09-14T10:55:01.197043Z",
          "iopub.status.idle": "2024-09-14T10:56:35.729597Z",
          "shell.execute_reply.started": "2024-09-14T10:55:01.196976Z",
          "shell.execute_reply": "2024-09-14T10:56:35.728504Z"
        },
        "trusted": true,
        "id": "ubsoaNo6dwdA"
      },
      "execution_count": null,
      "outputs": []
    },
    {
      "cell_type": "code",
      "source": [
        "tokenized_texts = [token_label_pair[0] for token_label_pair in tokenized_texts_and_labels]\n",
        "labels = [token_label_pair[1] for token_label_pair in tokenized_texts_and_labels]\n"
      ],
      "metadata": {
        "execution": {
          "iopub.status.busy": "2024-09-14T10:56:35.731296Z",
          "iopub.execute_input": "2024-09-14T10:56:35.731736Z",
          "iopub.status.idle": "2024-09-14T10:56:35.76286Z",
          "shell.execute_reply.started": "2024-09-14T10:56:35.731683Z",
          "shell.execute_reply": "2024-09-14T10:56:35.76178Z"
        },
        "trusted": true,
        "id": "6ybiSTIOdwdA"
      },
      "execution_count": null,
      "outputs": []
    },
    {
      "cell_type": "code",
      "source": [
        "input_ids = pad_sequences([tokenizer.convert_tokens_to_ids(txt) for txt in tokenized_texts],\n",
        "                          maxlen=MAX_LEN, dtype=\"long\", value=0.0,\n",
        "                          truncating=\"post\", padding=\"post\")\n"
      ],
      "metadata": {
        "execution": {
          "iopub.status.busy": "2024-09-14T10:56:35.764091Z",
          "iopub.execute_input": "2024-09-14T10:56:35.764869Z",
          "iopub.status.idle": "2024-09-14T10:56:38.719985Z",
          "shell.execute_reply.started": "2024-09-14T10:56:35.764832Z",
          "shell.execute_reply": "2024-09-14T10:56:38.719157Z"
        },
        "trusted": true,
        "id": "1pzcXlxBdwdA"
      },
      "execution_count": null,
      "outputs": []
    },
    {
      "cell_type": "code",
      "source": [
        "tags = pad_sequences([[tag2idx.get(l) for l in lab] for lab in labels],\n",
        "                     maxlen=MAX_LEN, value=tag2idx[\"PAD\"], padding=\"post\",\n",
        "                     dtype=\"long\", truncating=\"post\")\n"
      ],
      "metadata": {
        "execution": {
          "iopub.status.busy": "2024-09-14T10:56:38.721616Z",
          "iopub.execute_input": "2024-09-14T10:56:38.722026Z",
          "iopub.status.idle": "2024-09-14T10:56:39.295757Z",
          "shell.execute_reply.started": "2024-09-14T10:56:38.721964Z",
          "shell.execute_reply": "2024-09-14T10:56:39.294951Z"
        },
        "trusted": true,
        "id": "KCp6I_xddwdB"
      },
      "execution_count": null,
      "outputs": []
    },
    {
      "cell_type": "code",
      "source": [
        "attention_masks = [[float(i != 0.0) for i in ii] for ii in input_ids]\n"
      ],
      "metadata": {
        "execution": {
          "iopub.status.busy": "2024-09-14T10:56:39.296866Z",
          "iopub.execute_input": "2024-09-14T10:56:39.297204Z",
          "iopub.status.idle": "2024-09-14T10:56:48.412604Z",
          "shell.execute_reply.started": "2024-09-14T10:56:39.29717Z",
          "shell.execute_reply": "2024-09-14T10:56:48.411583Z"
        },
        "trusted": true,
        "id": "XRhDwobndwdB"
      },
      "execution_count": null,
      "outputs": []
    },
    {
      "cell_type": "code",
      "source": [
        "tr_inputs, val_inputs, tr_tags, val_tags = train_test_split(input_ids, tags,\n",
        "                                                            random_state=2018, test_size=0.1)\n",
        "tr_masks, val_masks, _, _ = train_test_split(attention_masks, input_ids,\n",
        "                                             random_state=2018, test_size=0.1)\n"
      ],
      "metadata": {
        "execution": {
          "iopub.status.busy": "2024-09-14T10:56:48.413901Z",
          "iopub.execute_input": "2024-09-14T10:56:48.414328Z",
          "iopub.status.idle": "2024-09-14T10:56:48.465222Z",
          "shell.execute_reply.started": "2024-09-14T10:56:48.414275Z",
          "shell.execute_reply": "2024-09-14T10:56:48.464346Z"
        },
        "trusted": true,
        "id": "6moLOGxcdwdB"
      },
      "execution_count": null,
      "outputs": []
    },
    {
      "cell_type": "code",
      "source": [
        "tr_inputs = torch.tensor(tr_inputs)\n",
        "val_inputs = torch.tensor(val_inputs)\n",
        "tr_tags = torch.tensor(tr_tags)\n",
        "val_tags = torch.tensor(val_tags)\n",
        "tr_masks = torch.tensor(tr_masks)\n",
        "val_masks = torch.tensor(val_masks)\n"
      ],
      "metadata": {
        "execution": {
          "iopub.status.busy": "2024-09-14T10:56:48.466434Z",
          "iopub.execute_input": "2024-09-14T10:56:48.46675Z",
          "iopub.status.idle": "2024-09-14T10:56:49.379434Z",
          "shell.execute_reply.started": "2024-09-14T10:56:48.466716Z",
          "shell.execute_reply": "2024-09-14T10:56:49.378588Z"
        },
        "trusted": true,
        "id": "p3M2nnbedwdB"
      },
      "execution_count": null,
      "outputs": []
    },
    {
      "cell_type": "code",
      "source": [
        "train_data = TensorDataset(tr_inputs, tr_masks, tr_tags)\n",
        "train_sampler = RandomSampler(train_data)\n",
        "train_dataloader = DataLoader(train_data, sampler=train_sampler, batch_size=bs)\n",
        "\n",
        "valid_data = TensorDataset(val_inputs, val_masks, val_tags)\n",
        "valid_sampler = SequentialSampler(valid_data)\n",
        "valid_dataloader = DataLoader(valid_data, sampler=valid_sampler, batch_size=bs)\n"
      ],
      "metadata": {
        "execution": {
          "iopub.status.busy": "2024-09-14T10:56:49.380604Z",
          "iopub.execute_input": "2024-09-14T10:56:49.380929Z",
          "iopub.status.idle": "2024-09-14T10:56:49.386797Z",
          "shell.execute_reply.started": "2024-09-14T10:56:49.380895Z",
          "shell.execute_reply": "2024-09-14T10:56:49.385754Z"
        },
        "trusted": true,
        "id": "MMv7OnPudwdC"
      },
      "execution_count": null,
      "outputs": []
    },
    {
      "cell_type": "code",
      "source": [
        "import transformers\n",
        "from transformers import BertForTokenClassification, AdamW\n",
        "\n",
        "transformers.__version__\n"
      ],
      "metadata": {
        "execution": {
          "iopub.status.busy": "2024-09-14T10:56:49.388089Z",
          "iopub.execute_input": "2024-09-14T10:56:49.388389Z",
          "iopub.status.idle": "2024-09-14T10:56:50.449424Z",
          "shell.execute_reply.started": "2024-09-14T10:56:49.388358Z",
          "shell.execute_reply": "2024-09-14T10:56:50.448418Z"
        },
        "trusted": true,
        "id": "FTdx9rt8dwdC",
        "outputId": "d29b529b-c1e5-4d64-ba5a-73d0955e3799"
      },
      "execution_count": null,
      "outputs": [
        {
          "execution_count": 30,
          "output_type": "execute_result",
          "data": {
            "text/plain": "'4.44.0'"
          },
          "metadata": {}
        }
      ]
    },
    {
      "cell_type": "code",
      "source": [
        "model = BertForTokenClassification.from_pretrained(\n",
        "    \"bert-base-cased\",\n",
        "    num_labels=len(tag2idx),\n",
        "    output_attentions = False,\n",
        "    output_hidden_states = False\n",
        ")\n"
      ],
      "metadata": {
        "execution": {
          "iopub.status.busy": "2024-09-14T10:56:50.450543Z",
          "iopub.execute_input": "2024-09-14T10:56:50.451135Z",
          "iopub.status.idle": "2024-09-14T10:56:50.700205Z",
          "shell.execute_reply.started": "2024-09-14T10:56:50.451098Z",
          "shell.execute_reply": "2024-09-14T10:56:50.699479Z"
        },
        "trusted": true,
        "id": "KLtq7YtYdwdC",
        "outputId": "c21d9fc7-7cf5-46e3-a747-6c957854dbec"
      },
      "execution_count": null,
      "outputs": [
        {
          "name": "stderr",
          "text": "A parameter name that contains `beta` will be renamed internally to `bias`. Please use a different name to suppress this warning.\nA parameter name that contains `gamma` will be renamed internally to `weight`. Please use a different name to suppress this warning.\nA parameter name that contains `beta` will be renamed internally to `bias`. Please use a different name to suppress this warning.\nA parameter name that contains `gamma` will be renamed internally to `weight`. Please use a different name to suppress this warning.\nA parameter name that contains `beta` will be renamed internally to `bias`. Please use a different name to suppress this warning.\nA parameter name that contains `gamma` will be renamed internally to `weight`. Please use a different name to suppress this warning.\nA parameter name that contains `beta` will be renamed internally to `bias`. Please use a different name to suppress this warning.\nA parameter name that contains `gamma` will be renamed internally to `weight`. Please use a different name to suppress this warning.\nA parameter name that contains `beta` will be renamed internally to `bias`. Please use a different name to suppress this warning.\nA parameter name that contains `gamma` will be renamed internally to `weight`. Please use a different name to suppress this warning.\nA parameter name that contains `beta` will be renamed internally to `bias`. Please use a different name to suppress this warning.\nA parameter name that contains `gamma` will be renamed internally to `weight`. Please use a different name to suppress this warning.\nA parameter name that contains `beta` will be renamed internally to `bias`. Please use a different name to suppress this warning.\nA parameter name that contains `gamma` will be renamed internally to `weight`. Please use a different name to suppress this warning.\nA parameter name that contains `beta` will be renamed internally to `bias`. Please use a different name to suppress this warning.\nA parameter name that contains `gamma` will be renamed internally to `weight`. Please use a different name to suppress this warning.\nA parameter name that contains `beta` will be renamed internally to `bias`. Please use a different name to suppress this warning.\nA parameter name that contains `gamma` will be renamed internally to `weight`. Please use a different name to suppress this warning.\nA parameter name that contains `beta` will be renamed internally to `bias`. Please use a different name to suppress this warning.\nA parameter name that contains `gamma` will be renamed internally to `weight`. Please use a different name to suppress this warning.\nA parameter name that contains `beta` will be renamed internally to `bias`. Please use a different name to suppress this warning.\nA parameter name that contains `gamma` will be renamed internally to `weight`. Please use a different name to suppress this warning.\nA parameter name that contains `beta` will be renamed internally to `bias`. Please use a different name to suppress this warning.\nA parameter name that contains `gamma` will be renamed internally to `weight`. Please use a different name to suppress this warning.\nA parameter name that contains `beta` will be renamed internally to `bias`. Please use a different name to suppress this warning.\nA parameter name that contains `gamma` will be renamed internally to `weight`. Please use a different name to suppress this warning.\nA parameter name that contains `beta` will be renamed internally to `bias`. Please use a different name to suppress this warning.\nA parameter name that contains `gamma` will be renamed internally to `weight`. Please use a different name to suppress this warning.\nA parameter name that contains `beta` will be renamed internally to `bias`. Please use a different name to suppress this warning.\nA parameter name that contains `gamma` will be renamed internally to `weight`. Please use a different name to suppress this warning.\nA parameter name that contains `beta` will be renamed internally to `bias`. Please use a different name to suppress this warning.\nA parameter name that contains `gamma` will be renamed internally to `weight`. Please use a different name to suppress this warning.\nA parameter name that contains `beta` will be renamed internally to `bias`. Please use a different name to suppress this warning.\nA parameter name that contains `gamma` will be renamed internally to `weight`. Please use a different name to suppress this warning.\nA parameter name that contains `beta` will be renamed internally to `bias`. Please use a different name to suppress this warning.\nA parameter name that contains `gamma` will be renamed internally to `weight`. Please use a different name to suppress this warning.\nA parameter name that contains `beta` will be renamed internally to `bias`. Please use a different name to suppress this warning.\nA parameter name that contains `gamma` will be renamed internally to `weight`. Please use a different name to suppress this warning.\nA parameter name that contains `beta` will be renamed internally to `bias`. Please use a different name to suppress this warning.\nA parameter name that contains `gamma` will be renamed internally to `weight`. Please use a different name to suppress this warning.\nA parameter name that contains `beta` will be renamed internally to `bias`. Please use a different name to suppress this warning.\nA parameter name that contains `gamma` will be renamed internally to `weight`. Please use a different name to suppress this warning.\nA parameter name that contains `beta` will be renamed internally to `bias`. Please use a different name to suppress this warning.\nA parameter name that contains `gamma` will be renamed internally to `weight`. Please use a different name to suppress this warning.\nA parameter name that contains `beta` will be renamed internally to `bias`. Please use a different name to suppress this warning.\nA parameter name that contains `gamma` will be renamed internally to `weight`. Please use a different name to suppress this warning.\nA parameter name that contains `beta` will be renamed internally to `bias`. Please use a different name to suppress this warning.\nA parameter name that contains `gamma` will be renamed internally to `weight`. Please use a different name to suppress this warning.\nA parameter name that contains `beta` will be renamed internally to `bias`. Please use a different name to suppress this warning.\nA parameter name that contains `gamma` will be renamed internally to `weight`. Please use a different name to suppress this warning.\nA parameter name that contains `beta` will be renamed internally to `bias`. Please use a different name to suppress this warning.\nA parameter name that contains `gamma` will be renamed internally to `weight`. Please use a different name to suppress this warning.\nSome weights of BertForTokenClassification were not initialized from the model checkpoint at bert-base-cased and are newly initialized: ['classifier.bias', 'classifier.weight']\nYou should probably TRAIN this model on a down-stream task to be able to use it for predictions and inference.\n",
          "output_type": "stream"
        }
      ]
    },
    {
      "cell_type": "code",
      "source": [
        "model.cuda()"
      ],
      "metadata": {
        "execution": {
          "iopub.status.busy": "2024-09-14T10:56:50.701343Z",
          "iopub.execute_input": "2024-09-14T10:56:50.701635Z",
          "iopub.status.idle": "2024-09-14T10:56:50.982468Z",
          "shell.execute_reply.started": "2024-09-14T10:56:50.701602Z",
          "shell.execute_reply": "2024-09-14T10:56:50.981435Z"
        },
        "trusted": true,
        "id": "shhqgTf1dwdD",
        "outputId": "21047b97-417e-46f1-f06e-f47c87a122ee"
      },
      "execution_count": null,
      "outputs": [
        {
          "execution_count": 32,
          "output_type": "execute_result",
          "data": {
            "text/plain": "BertForTokenClassification(\n  (bert): BertModel(\n    (embeddings): BertEmbeddings(\n      (word_embeddings): Embedding(28996, 768, padding_idx=0)\n      (position_embeddings): Embedding(512, 768)\n      (token_type_embeddings): Embedding(2, 768)\n      (LayerNorm): LayerNorm((768,), eps=1e-12, elementwise_affine=True)\n      (dropout): Dropout(p=0.1, inplace=False)\n    )\n    (encoder): BertEncoder(\n      (layer): ModuleList(\n        (0-11): 12 x BertLayer(\n          (attention): BertAttention(\n            (self): BertSdpaSelfAttention(\n              (query): Linear(in_features=768, out_features=768, bias=True)\n              (key): Linear(in_features=768, out_features=768, bias=True)\n              (value): Linear(in_features=768, out_features=768, bias=True)\n              (dropout): Dropout(p=0.1, inplace=False)\n            )\n            (output): BertSelfOutput(\n              (dense): Linear(in_features=768, out_features=768, bias=True)\n              (LayerNorm): LayerNorm((768,), eps=1e-12, elementwise_affine=True)\n              (dropout): Dropout(p=0.1, inplace=False)\n            )\n          )\n          (intermediate): BertIntermediate(\n            (dense): Linear(in_features=768, out_features=3072, bias=True)\n            (intermediate_act_fn): GELUActivation()\n          )\n          (output): BertOutput(\n            (dense): Linear(in_features=3072, out_features=768, bias=True)\n            (LayerNorm): LayerNorm((768,), eps=1e-12, elementwise_affine=True)\n            (dropout): Dropout(p=0.1, inplace=False)\n          )\n        )\n      )\n    )\n  )\n  (dropout): Dropout(p=0.1, inplace=False)\n  (classifier): Linear(in_features=768, out_features=10, bias=True)\n)"
          },
          "metadata": {}
        }
      ]
    },
    {
      "cell_type": "code",
      "source": [
        "FULL_FINETUNING = True\n",
        "if FULL_FINETUNING:\n",
        "    param_optimizer = list(model.named_parameters())\n",
        "    no_decay = ['bias', 'gamma', 'beta']\n",
        "    optimizer_grouped_parameters = [\n",
        "        {'params': [p for n, p in param_optimizer if not any(nd in n for nd in no_decay)],\n",
        "         'weight_decay_rate': 0.01},\n",
        "        {'params': [p for n, p in param_optimizer if any(nd in n for nd in no_decay)],\n",
        "         'weight_decay_rate': 0.0}\n",
        "    ]\n",
        "else:\n",
        "    param_optimizer = list(model.classifier.named_parameters())\n",
        "    optimizer_grouped_parameters = [{\"params\": [p for n, p in param_optimizer]}]\n",
        "\n",
        "optimizer = AdamW(\n",
        "    optimizer_grouped_parameters,\n",
        "    lr=3e-5,\n",
        "    eps=1e-8\n",
        ")\n"
      ],
      "metadata": {
        "execution": {
          "iopub.status.busy": "2024-09-14T10:56:50.983738Z",
          "iopub.execute_input": "2024-09-14T10:56:50.984153Z",
          "iopub.status.idle": "2024-09-14T10:56:51.279906Z",
          "shell.execute_reply.started": "2024-09-14T10:56:50.984109Z",
          "shell.execute_reply": "2024-09-14T10:56:51.279147Z"
        },
        "trusted": true,
        "id": "ZxwALFAhdwdD",
        "outputId": "b17ef77a-0795-42cc-896e-222ff0e8a4c7"
      },
      "execution_count": null,
      "outputs": [
        {
          "name": "stderr",
          "text": "/opt/conda/lib/python3.10/site-packages/transformers/optimization.py:591: FutureWarning: This implementation of AdamW is deprecated and will be removed in a future version. Use the PyTorch implementation torch.optim.AdamW instead, or set `no_deprecation_warning=True` to disable this warning\n  warnings.warn(\n",
          "output_type": "stream"
        }
      ]
    },
    {
      "cell_type": "code",
      "source": [
        "from transformers import get_linear_schedule_with_warmup\n",
        "\n",
        "epochs = 5\n",
        "max_grad_norm = 1.0\n",
        "\n",
        "# Total number of training steps is number of batches * number of epochs.\n",
        "total_steps = len(train_dataloader) * epochs\n",
        "\n",
        "# Create the learning rate scheduler.\n",
        "scheduler = get_linear_schedule_with_warmup(\n",
        "    optimizer,\n",
        "    num_warmup_steps=0,\n",
        "    num_training_steps=total_steps\n",
        ")\n"
      ],
      "metadata": {
        "execution": {
          "iopub.status.busy": "2024-09-14T10:56:51.281159Z",
          "iopub.execute_input": "2024-09-14T10:56:51.281546Z",
          "iopub.status.idle": "2024-09-14T10:56:51.28715Z",
          "shell.execute_reply.started": "2024-09-14T10:56:51.281504Z",
          "shell.execute_reply": "2024-09-14T10:56:51.286216Z"
        },
        "trusted": true,
        "id": "C8b3if0-dwdD"
      },
      "execution_count": null,
      "outputs": []
    },
    {
      "cell_type": "code",
      "source": [
        "!pip install seqeval"
      ],
      "metadata": {
        "execution": {
          "iopub.status.busy": "2024-09-14T10:56:51.288348Z",
          "iopub.execute_input": "2024-09-14T10:56:51.28865Z",
          "iopub.status.idle": "2024-09-14T10:57:04.347135Z",
          "shell.execute_reply.started": "2024-09-14T10:56:51.288602Z",
          "shell.execute_reply": "2024-09-14T10:57:04.346018Z"
        },
        "trusted": true,
        "id": "SPAV356fdwdE",
        "outputId": "ad13ba82-700f-405c-a27f-d2e98ded5918"
      },
      "execution_count": null,
      "outputs": [
        {
          "name": "stderr",
          "text": "/opt/conda/lib/python3.10/pty.py:89: RuntimeWarning: os.fork() was called. os.fork() is incompatible with multithreaded code, and JAX is multithreaded, so this will likely lead to a deadlock.\n  pid, fd = os.forkpty()\n",
          "output_type": "stream"
        },
        {
          "name": "stdout",
          "text": "Requirement already satisfied: seqeval in /opt/conda/lib/python3.10/site-packages (1.2.2)\nRequirement already satisfied: numpy>=1.14.0 in /opt/conda/lib/python3.10/site-packages (from seqeval) (1.26.4)\nRequirement already satisfied: scikit-learn>=0.21.3 in /opt/conda/lib/python3.10/site-packages (from seqeval) (1.2.2)\nRequirement already satisfied: scipy>=1.3.2 in /opt/conda/lib/python3.10/site-packages (from scikit-learn>=0.21.3->seqeval) (1.14.0)\nRequirement already satisfied: joblib>=1.1.1 in /opt/conda/lib/python3.10/site-packages (from scikit-learn>=0.21.3->seqeval) (1.4.2)\nRequirement already satisfied: threadpoolctl>=2.0.0 in /opt/conda/lib/python3.10/site-packages (from scikit-learn>=0.21.3->seqeval) (3.5.0)\n",
          "output_type": "stream"
        }
      ]
    },
    {
      "cell_type": "code",
      "source": [
        "from seqeval.metrics import f1_score, accuracy_score"
      ],
      "metadata": {
        "execution": {
          "iopub.status.busy": "2024-09-14T10:57:04.348632Z",
          "iopub.execute_input": "2024-09-14T10:57:04.349004Z",
          "iopub.status.idle": "2024-09-14T10:57:04.360101Z",
          "shell.execute_reply.started": "2024-09-14T10:57:04.34895Z",
          "shell.execute_reply": "2024-09-14T10:57:04.359222Z"
        },
        "trusted": true,
        "id": "NDKvUaUHdwdE"
      },
      "execution_count": null,
      "outputs": []
    },
    {
      "cell_type": "code",
      "source": [
        "## Store the average loss after each epoch so we can plot them.\n",
        "loss_values, validation_loss_values = [], []\n",
        "\n",
        "for _ in trange(epochs, desc=\"Epoch\"):\n",
        "    # ========================================\n",
        "    #               Training\n",
        "    # ========================================\n",
        "    # Perform one full pass over the training set.\n",
        "\n",
        "    # Put the model into training mode.\n",
        "    model.train()\n",
        "    # Reset the total loss for this epoch.\n",
        "    total_loss = 0\n",
        "\n",
        "    # Training loop\n",
        "    for step, batch in enumerate(train_dataloader):\n",
        "        # add batch to gpu\n",
        "        batch = tuple(t.to(device) for t in batch)\n",
        "        b_input_ids, b_input_mask, b_labels = batch\n",
        "        # Always clear any previously calculated gradients before performing a backward pass.\n",
        "        model.zero_grad()\n",
        "        # forward pass\n",
        "        # This will return the loss (rather than the model output)\n",
        "        # because we have provided the `labels`.\n",
        "        outputs = model(b_input_ids, token_type_ids=None,\n",
        "                        attention_mask=b_input_mask, labels=b_labels)\n",
        "        # get the loss\n",
        "        loss = outputs[0]\n",
        "        # Perform a backward pass to calculate the gradients.\n",
        "        loss.backward()\n",
        "        # track train loss\n",
        "        total_loss += loss.item()\n",
        "        # Clip the norm of the gradient\n",
        "        # This is to help prevent the \"exploding gradients\" problem.\n",
        "        torch.nn.utils.clip_grad_norm_(parameters=model.parameters(), max_norm=max_grad_norm)\n",
        "        # update parameters\n",
        "        optimizer.step()\n",
        "        # Update the learning rate.\n",
        "        scheduler.step()\n",
        "\n",
        "    # Calculate the average loss over the training data.\n",
        "    avg_train_loss = total_loss / len(train_dataloader)\n",
        "    print(\"Average train loss: {}\".format(avg_train_loss))\n",
        "\n",
        "    # Store the loss value for plotting the learning curve.\n",
        "    loss_values.append(avg_train_loss)\n",
        "\n",
        "\n",
        "    # ========================================\n",
        "    #               Validation\n",
        "    # ========================================\n",
        "    # After the completion of each training epoch, measure our performance on\n",
        "    # our validation set.\n",
        "\n",
        "    # Put the model into evaluation mode\n",
        "    model.eval()\n",
        "    # Reset the validation loss for this epoch.\n",
        "    eval_loss, eval_accuracy = 0, 0\n",
        "    nb_eval_steps, nb_eval_examples = 0, 0\n",
        "    predictions , true_labels = [], []\n",
        "    for batch in valid_dataloader:\n",
        "        batch = tuple(t.to(device) for t in batch)\n",
        "        b_input_ids, b_input_mask, b_labels = batch\n",
        "\n",
        "        # Telling the model not to compute or store gradients,\n",
        "        # saving memory and speeding up validation\n",
        "        with torch.no_grad():\n",
        "            # Forward pass, calculate logit predictions.\n",
        "            # This will return the logits rather than the loss because we have not provided labels.\n",
        "            outputs = model(b_input_ids, token_type_ids=None,\n",
        "                            attention_mask=b_input_mask, labels=b_labels)\n",
        "        # Move logits and labels to CPU\n",
        "        logits = outputs[1].detach().cpu().numpy()\n",
        "        label_ids = b_labels.to('cpu').numpy()\n",
        "\n",
        "        # Calculate the accuracy for this batch of test sentences.\n",
        "        eval_loss += outputs[0].mean().item()\n",
        "        predictions.extend([list(p) for p in np.argmax(logits, axis=2)])\n",
        "        true_labels.extend(label_ids)\n",
        "\n",
        "    eval_loss = eval_loss / len(valid_dataloader)\n",
        "    validation_loss_values.append(eval_loss)\n",
        "    print(\"Validation loss: {}\".format(eval_loss))\n",
        "\n",
        "    # Modify the F1-score calculation by ignoring 'PAD' tokens\n",
        "    pred_tags = [\n",
        "        [tag_values[p_i] for p_i, l_i in zip(p, l) if tag_values[l_i] != \"PAD\"]\n",
        "        for p, l in zip(predictions, true_labels)\n",
        "    ]\n",
        "    valid_tags = [\n",
        "        [tag_values[l_i] for l_i in l if tag_values[l_i] != \"PAD\"]\n",
        "        for l in true_labels\n",
        "    ]\n",
        "\n",
        "    # Now calculate the validation metrics\n",
        "    print(\"Validation Accuracy: {}\".format(accuracy_score(pred_tags, valid_tags)))\n",
        "    print(\"Validation F1-Score: {}\".format(f1_score(pred_tags, valid_tags)))\n",
        "    print()\n"
      ],
      "metadata": {
        "execution": {
          "iopub.status.busy": "2024-09-14T10:57:04.36609Z",
          "iopub.execute_input": "2024-09-14T10:57:04.366395Z",
          "iopub.status.idle": "2024-09-14T11:37:15.418346Z",
          "shell.execute_reply.started": "2024-09-14T10:57:04.366364Z",
          "shell.execute_reply": "2024-09-14T11:37:15.41742Z"
        },
        "trusted": true,
        "id": "WF1EV_2ddwdE",
        "outputId": "955f5955-dedf-4924-9fc5-50822a185700"
      },
      "execution_count": null,
      "outputs": [
        {
          "name": "stderr",
          "text": "Epoch:   0%|          | 0/5 [00:00<?, ?it/s]",
          "output_type": "stream"
        },
        {
          "name": "stdout",
          "text": "Average train loss: 0.28086655607407834\nValidation loss: 0.1892485630194672\nValidation Accuracy: 0.927759157289921\n",
          "output_type": "stream"
        },
        {
          "name": "stderr",
          "text": "/opt/conda/lib/python3.10/site-packages/seqeval/metrics/sequence_labeling.py:171: UserWarning: PAD seems not to be NE tag.\n  warnings.warn('{} seems not to be NE tag.'.format(chunk))\nEpoch:  20%|██        | 1/5 [07:59<31:56, 479.01s/it]",
          "output_type": "stream"
        },
        {
          "name": "stdout",
          "text": "Validation F1-Score: 0.5800775112600818\n\nAverage train loss: 0.16353814853636475\nValidation loss: 0.17042217745644148\nValidation Accuracy: 0.934753240534902\n",
          "output_type": "stream"
        },
        {
          "name": "stderr",
          "text": "Epoch:  40%|████      | 2/5 [16:01<24:04, 481.35s/it]",
          "output_type": "stream"
        },
        {
          "name": "stdout",
          "text": "Validation F1-Score: 0.7270013857797677\n\nAverage train loss: 0.11446156758177695\nValidation loss: 0.2039152071582245\nValidation Accuracy: 0.9350909743835288\n",
          "output_type": "stream"
        },
        {
          "name": "stderr",
          "text": "Epoch:  60%|██████    | 3/5 [24:05<16:04, 482.13s/it]",
          "output_type": "stream"
        },
        {
          "name": "stdout",
          "text": "Validation F1-Score: 0.7412248339833457\n\nAverage train loss: 0.07533792868062295\nValidation loss: 0.2470108507292681\nValidation Accuracy: 0.9366043640343377\n",
          "output_type": "stream"
        },
        {
          "name": "stderr",
          "text": "Epoch:  80%|████████  | 4/5 [32:08<08:02, 482.47s/it]",
          "output_type": "stream"
        },
        {
          "name": "stdout",
          "text": "Validation F1-Score: 0.7619441571871769\n\nAverage train loss: 0.05026499704480825\nValidation loss: 0.2802587204200567\nValidation Accuracy: 0.9345993365026164\n",
          "output_type": "stream"
        },
        {
          "name": "stderr",
          "text": "Epoch: 100%|██████████| 5/5 [40:11<00:00, 482.21s/it]",
          "output_type": "stream"
        },
        {
          "name": "stdout",
          "text": "Validation F1-Score: 0.7588241277591292\n\n",
          "output_type": "stream"
        },
        {
          "name": "stderr",
          "text": "\n",
          "output_type": "stream"
        }
      ]
    },
    {
      "cell_type": "code",
      "source": [
        "import matplotlib.pyplot as plt\n",
        "%matplotlib inline\n",
        "\n",
        "import seaborn as sns\n",
        "\n",
        "# Use plot styling from seaborn.\n",
        "sns.set(style='darkgrid')\n",
        "\n",
        "# Increase the plot size and font size.\n",
        "sns.set(font_scale=1.5)\n",
        "plt.rcParams[\"figure.figsize\"] = (12,6)\n",
        "\n",
        "# Plot the learning curve.\n",
        "plt.plot(loss_values, 'b-o', label=\"training loss\")\n",
        "plt.plot(validation_loss_values, 'r-o', label=\"validation loss\")\n",
        "\n",
        "# Label the plot.\n",
        "plt.title(\"Learning curve\")\n",
        "plt.xlabel(\"Epoch\")\n",
        "plt.ylabel(\"Loss\")\n",
        "plt.legend()\n",
        "\n",
        "plt.show()\n"
      ],
      "metadata": {
        "execution": {
          "iopub.status.busy": "2024-09-14T11:37:43.726888Z",
          "iopub.execute_input": "2024-09-14T11:37:43.727758Z",
          "iopub.status.idle": "2024-09-14T11:37:44.439648Z",
          "shell.execute_reply.started": "2024-09-14T11:37:43.727715Z",
          "shell.execute_reply": "2024-09-14T11:37:44.438669Z"
        },
        "trusted": true,
        "id": "evFNCFN_dwdF",
        "outputId": "a7dcec2e-a025-4cd3-9edc-8a74c17a4355"
      },
      "execution_count": null,
      "outputs": [
        {
          "output_type": "display_data",
          "data": {
            "text/plain": "<Figure size 1200x600 with 1 Axes>",
            "image/png": "[encoded data removed]"
          },
          "metadata": {}
        }
      ]
    },
    {
      "cell_type": "code",
      "source": [
        "import os\n",
        "\n",
        "# Define the path for the new folder\n",
        "new_folder_path = '/kaggle/working/model_output'\n",
        "\n",
        "# Create the new folder\n",
        "os.makedirs(new_folder_path, exist_ok=True)\n",
        "\n",
        "print(f\"Folder created at: {new_folder_path}\")\n"
      ],
      "metadata": {
        "execution": {
          "iopub.status.busy": "2024-09-14T11:37:53.688869Z",
          "iopub.execute_input": "2024-09-14T11:37:53.689563Z",
          "iopub.status.idle": "2024-09-14T11:37:53.695512Z",
          "shell.execute_reply.started": "2024-09-14T11:37:53.689523Z",
          "shell.execute_reply": "2024-09-14T11:37:53.694563Z"
        },
        "trusted": true,
        "id": "XbE7jBUedwdM",
        "outputId": "5da841ca-506c-408c-b592-d4fc3ff59ccd"
      },
      "execution_count": null,
      "outputs": [
        {
          "name": "stdout",
          "text": "Folder created at: /kaggle/working/model_output\n",
          "output_type": "stream"
        }
      ]
    },
    {
      "cell_type": "code",
      "source": [
        "import torch\n",
        "\n",
        "# Quantize the model\n",
        "quantized_model = torch.quantization.quantize_dynamic(\n",
        "    model, {torch.nn.Linear}, dtype=torch.qint8\n",
        ")\n",
        "\n",
        "# Save the quantized model with PyTorch's torch.save\n",
        "torch.save(quantized_model.state_dict(), new_folder_path + \"/quantized_model.pth\")\n",
        "\n",
        "# Save the tokenizer as usual with Hugging Face's save_pretrained\n",
        "tokenizer.save_pretrained(new_folder_path)\n",
        "\n",
        "print(\"Quantized model and tokenizer saved!\")\n"
      ],
      "metadata": {
        "execution": {
          "iopub.status.busy": "2024-09-14T11:39:32.31495Z",
          "iopub.execute_input": "2024-09-14T11:39:32.315814Z",
          "iopub.status.idle": "2024-09-14T11:39:33.385743Z",
          "shell.execute_reply.started": "2024-09-14T11:39:32.315772Z",
          "shell.execute_reply": "2024-09-14T11:39:33.384797Z"
        },
        "trusted": true,
        "id": "nJ7OoQphdwdN",
        "outputId": "b2be7d35-dc20-43be-c586-ed37c91df910"
      },
      "execution_count": null,
      "outputs": [
        {
          "name": "stdout",
          "text": "Quantized model and tokenizer saved!\n",
          "output_type": "stream"
        }
      ]
    },
    {
      "cell_type": "code",
      "source": [
        "test_sentence = \"\"\"\n",
        "  ANUVA GOYAL D.O.B.: 1st October 2000 Gender: Female OBJECTIVE Energetic,\n",
        "   innovative engineering undergraduate, passionate about Machine Learning,\n",
        "   NLP and Deep Learning for solving real-world problems, aiming to work in an organization providing great learning experience and growth opportunities\n",
        "   for mutual benefit. EDUCATION Qualification Institute CGPA Year of Completion B.Tech. Dayalbagh Educational Institute,\n",
        "   CGPA 9.35 2023 (Electrical Engineering (Till 4 Dayalbagh, Agra Pursuing Specialization in Computer Science) semesters)\n",
        "\n",
        "\"\"\""
      ],
      "metadata": {
        "execution": {
          "iopub.status.busy": "2024-09-14T11:40:56.569043Z",
          "iopub.execute_input": "2024-09-14T11:40:56.569802Z",
          "iopub.status.idle": "2024-09-14T11:40:56.574929Z",
          "shell.execute_reply.started": "2024-09-14T11:40:56.569758Z",
          "shell.execute_reply": "2024-09-14T11:40:56.573852Z"
        },
        "trusted": true,
        "id": "pBGvSsN5dwdN"
      },
      "execution_count": null,
      "outputs": []
    },
    {
      "cell_type": "code",
      "source": [
        "tokenized_sentence = tokenizer.encode(test_sentence)\n",
        "input_ids = torch.tensor([tokenized_sentence]).cuda()\n"
      ],
      "metadata": {
        "execution": {
          "iopub.status.busy": "2024-09-14T11:41:06.10747Z",
          "iopub.execute_input": "2024-09-14T11:41:06.10856Z",
          "iopub.status.idle": "2024-09-14T11:41:06.117048Z",
          "shell.execute_reply.started": "2024-09-14T11:41:06.108517Z",
          "shell.execute_reply": "2024-09-14T11:41:06.116062Z"
        },
        "trusted": true,
        "id": "uI-SSFw7dwdO"
      },
      "execution_count": null,
      "outputs": []
    },
    {
      "cell_type": "code",
      "source": [
        "with torch.no_grad():\n",
        "    output = model(input_ids)\n",
        "label_indices = np.argmax(output[0].to('cpu').numpy(), axis=2)\n"
      ],
      "metadata": {
        "execution": {
          "iopub.status.busy": "2024-09-14T11:41:17.278713Z",
          "iopub.execute_input": "2024-09-14T11:41:17.279143Z",
          "iopub.status.idle": "2024-09-14T11:41:17.339502Z",
          "shell.execute_reply.started": "2024-09-14T11:41:17.279098Z",
          "shell.execute_reply": "2024-09-14T11:41:17.338725Z"
        },
        "trusted": true,
        "id": "vdtzzcSOdwdS"
      },
      "execution_count": null,
      "outputs": []
    },
    {
      "cell_type": "code",
      "source": [
        "# join bpe split tokens\n",
        "tokens = tokenizer.convert_ids_to_tokens(input_ids.to('cpu').numpy()[0])\n",
        "new_tokens, new_labels = [], []\n",
        "for token, label_idx in zip(tokens, label_indices[0]):\n",
        "    if token.startswith(\"##\"):\n",
        "        new_tokens[-1] = new_tokens[-1] + token[2:]\n",
        "    else:\n",
        "        new_labels.append(tag_values[label_idx])\n",
        "        new_tokens.append(token)\n"
      ],
      "metadata": {
        "execution": {
          "iopub.status.busy": "2024-09-14T11:50:16.054149Z",
          "iopub.execute_input": "2024-09-14T11:50:16.054548Z",
          "iopub.status.idle": "2024-09-14T11:50:16.062162Z",
          "shell.execute_reply.started": "2024-09-14T11:50:16.05451Z",
          "shell.execute_reply": "2024-09-14T11:50:16.061274Z"
        },
        "trusted": true,
        "id": "hpm8oz-XdwdS"
      },
      "execution_count": null,
      "outputs": []
    },
    {
      "cell_type": "code",
      "source": [
        "for token, label in zip(new_tokens, new_labels):\n",
        "    print(\"{}\\t{}\".format(label, token))\n"
      ],
      "metadata": {
        "execution": {
          "iopub.status.busy": "2024-09-14T11:50:27.108122Z",
          "iopub.execute_input": "2024-09-14T11:50:27.108755Z",
          "iopub.status.idle": "2024-09-14T11:50:27.114334Z",
          "shell.execute_reply.started": "2024-09-14T11:50:27.108716Z",
          "shell.execute_reply": "2024-09-14T11:50:27.113398Z"
        },
        "trusted": true,
        "id": "j_aB3WpOdwdS",
        "outputId": "531af4fb-2c88-4bd9-86f4-31a7a41927f4"
      },
      "execution_count": null,
      "outputs": [
        {
          "name": "stdout",
          "text": "O\t[CLS]\nO\tANUVA\nO\tGOYAL\nO\tD\nO\t.\nO\tO\nO\t.\nO\tB\nO\t.\nO\t:\nO\t1st\nO\tOctober\nO\t2000\nO\tGender\nO\t:\nO\tFemale\nO\tOBJECTIVE\nO\tEnergetic\nO\t,\nO\tinnovative\nO\tengineering\nO\tundergraduate\nO\t,\nO\tpassionate\nO\tabout\nO\tMachine\nO\tLearning\nO\t,\nO\tNLP\nO\tand\nO\tDeep\nO\tLearning\nO\tfor\nO\tsolving\nI-EXPERIENCE\treal\nO\t-\nO\tworld\nO\tproblems\nO\t,\nO\taiming\nO\tto\nO\twork\nO\tin\nO\tan\nO\torganization\nO\tproviding\nI-EXPERIENCE\tgreat\nI-EXPERIENCE\tlearning\nI-EXPERIENCE\texperience\nI-EXPERIENCE\tand\nI-EXPERIENCE\tgrowth\nI-EXPERIENCE\topportunities\nI-EXPERIENCE\tfor\nI-EXPERIENCE\tmutual\nI-QUALIFICATION\tbenefit\nI-QUALIFICATION\t.\nB-QUALIFICATION\tEDUCATION\nI-QUALIFICATION\tQualification\nI-QUALIFICATION\tInstitute\nI-QUALIFICATION\tCGPA\nI-QUALIFICATION\tYear\nI-QUALIFICATION\tof\nI-QUALIFICATION\tCompletion\nI-QUALIFICATION\tB\nI-QUALIFICATION\t.\nI-QUALIFICATION\tTech\nI-QUALIFICATION\t.\nB-QUALIFICATION\tDayalbagh\nI-QUALIFICATION\tEducational\nI-QUALIFICATION\tInstitute\nI-QUALIFICATION\t,\nI-QUALIFICATION\tCGPA\nI-QUALIFICATION\t9\nI-QUALIFICATION\t.\nI-QUALIFICATION\t35\nI-QUALIFICATION\t2023\nI-QUALIFICATION\t(\nI-QUALIFICATION\tElectrical\nI-QUALIFICATION\tEngineering\nI-QUALIFICATION\t(\nI-QUALIFICATION\tTill\nI-QUALIFICATION\t4\nI-QUALIFICATION\tDayalbagh\nI-QUALIFICATION\t,\nI-QUALIFICATION\tAgra\nI-QUALIFICATION\tPursuing\nI-QUALIFICATION\tSpecialization\nI-QUALIFICATION\tin\nI-QUALIFICATION\tComputer\nI-QUALIFICATION\tScience\nI-QUALIFICATION\t)\nI-QUALIFICATION\tsemesters\nI-QUALIFICATION\t)\nI-QUALIFICATION\t[SEP]\n",
          "output_type": "stream"
        }
      ]
    },
    {
      "cell_type": "code",
      "source": [],
      "metadata": {
        "id": "ydLYBwEVdwdT"
      },
      "execution_count": null,
      "outputs": []
    }
  ]
}